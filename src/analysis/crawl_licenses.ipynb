{
 "cells": [
  {
   "cell_type": "markdown",
   "metadata": {},
   "source": [
    "# Crawl License Information"
   ]
  },
  {
   "cell_type": "code",
   "execution_count": null,
   "metadata": {},
   "outputs": [],
   "source": [
    "# based on https://github.com/madelonhulsebos/gittables/blob/main/gittables/table_annotator.py\n",
    "    \n",
    "USER = \"\" # add user here\n",
    "TOKEN = \"\" # add valid token here\n",
    "\n",
    "import requests\n",
    "import time\n",
    "def get_table_license(url: str):\n",
    "    \n",
    "    repository_url = url.split(\"blob\")[0]\n",
    "    owner = repository_url.split(\"/\")[-3]\n",
    "    repo = repository_url.split(\"/\")[-2]\n",
    "\n",
    "    try:\n",
    "        response = requests.get(\n",
    "            f\"https://api.github.com/repos/{owner}/{repo}/license\",\n",
    "            headers={\"accept\": \"application/vnd.github.v3+json\"},\n",
    "            auth=(USER, TOKEN)\n",
    "        )\n",
    "        if response.status_code == 200:\n",
    "            table_license = response.json()[\"license\"]\n",
    "            if table_license[\"name\"] == \"Other\":\n",
    "                table_license = None\n",
    "            else:\n",
    "                table_license = {\"license\": table_license}\n",
    "        elif response.status_code == 404:\n",
    "            # In this case, the repository is not associated with a license.\n",
    "            table_license = None\n",
    "        elif response.status_code == 403:\n",
    "            # In this case, we likely reached the API limit.\n",
    "            waiting_time = float(response.headers[\"X-RateLimit-Reset\"]) - time.time()\n",
    "            if waiting_time < 0:\n",
    "                # We will not waiting for nothing, there was something else wrong.\n",
    "                table_license = None\n",
    "            else:\n",
    "                msg = f\"Reached limit on owner {owner}, repo {repo}, waiting for {waiting_time} s\"\n",
    "                print(msg)\n",
    "                time.sleep(waiting_time)\n",
    "                table_license = get_table_license(url)\n",
    "        else:\n",
    "            # In this case, we encountered another error.\n",
    "            code = response.status_code\n",
    "            msg = f\"Ran into another issue, with status code {code}\"\n",
    "            print(msg)\n",
    "            table_license = None\n",
    "    except Exception as e:\n",
    "        msg = f\"Ran into exception {e}\"\n",
    "        print(msg)\n",
    "        table_license = None\n",
    "\n",
    "    return table_license"
   ]
  },
  {
   "cell_type": "code",
   "execution_count": null,
   "metadata": {},
   "outputs": [],
   "source": [
    "import pickle\n",
    "\n",
    "checkpoint = []\n",
    "start_idx = 0\n",
    "\n",
    "if os.path.exists('../../data/license_checkpoint.pckg'):\n",
    "    checkpoint = pickle.load(open('../../data/license_checkpoint.pckg','rb'))\n",
    "    start_idx = max([v[0] for v in checkpoint]) + 1\n",
    "\n",
    "with open(\"../../data/sqlfiles_urls.csv\") as f:\n",
    "    line = f.readline()\n",
    "    while line:\n",
    "        idx = int(line[0:6])\n",
    "        if idx < start_idx:\n",
    "            line = f.readline()\n",
    "            continue\n",
    "            \n",
    "        url = line[7:]\n",
    "        license = get_table_license(url)\n",
    "        license_key = license['license']['key'] if license and 'license' in license.keys() and 'key' in license['license'].keys() else \"None\"\n",
    "        checkpoint.append([idx, url, license_key])\n",
    "        \n",
    "        if idx % 100 == 0:\n",
    "            print(f\"checkpointed at {idx}\")\n",
    "            pickle.dump(checkpoint, open('../../data/license_checkpoint.pckg','wb'))\n",
    "        \n",
    "        line = f.readline()"
   ]
  },
  {
   "cell_type": "markdown",
   "metadata": {},
   "source": [
    "# Evaluate License Information"
   ]
  },
  {
   "cell_type": "code",
   "execution_count": 50,
   "metadata": {},
   "outputs": [],
   "source": [
    "import os\n",
    "from collections import Counter\n",
    "if os.path.exists('../../data/license_checkpoint.pckg'):\n",
    "    checkpoint = pickle.load(open('../../data/license_checkpoint.pckg','rb'))\n",
    "    counter = Counter([v[2] for v in checkpoint])\n",
    "    counter = dict(counter)"
   ]
  },
  {
   "cell_type": "code",
   "execution_count": 53,
   "metadata": {
    "scrolled": true
   },
   "outputs": [
    {
     "data": {
      "text/plain": [
       "[('None', 563122),\n",
       " ('apache-2.0', 49781),\n",
       " ('mit', 38655),\n",
       " ('gpl-3.0', 17873),\n",
       " ('gpl-2.0', 9520),\n",
       " ('agpl-3.0', 5501),\n",
       " ('bsd-3-clause', 3638),\n",
       " ('ecl-2.0', 3003),\n",
       " ('lgpl-3.0', 1094),\n",
       " ('mpl-2.0', 571),\n",
       " ('unlicense', 555),\n",
       " ('lgpl-2.1', 548),\n",
       " ('cc0-1.0', 408),\n",
       " ('bsd-2-clause', 347),\n",
       " ('epl-2.0', 222),\n",
       " ('epl-1.0', 193),\n",
       " ('eupl-1.2', 145),\n",
       " ('osl-3.0', 134),\n",
       " ('artistic-2.0', 115),\n",
       " ('isc', 98),\n",
       " (None, 80),\n",
       " ('eupl-1.1', 51),\n",
       " ('cc-by-4.0', 42),\n",
       " ('ms-pl', 39),\n",
       " ('cc-by-sa-4.0', 35),\n",
       " ('wtfpl', 33),\n",
       " ('afl-3.0', 26),\n",
       " ('upl-1.0', 20),\n",
       " ('zlib', 11),\n",
       " ('bsl-1.0', 11),\n",
       " ('postgresql', 8),\n",
       " ('ms-rl', 6),\n",
       " ('0bsd', 6),\n",
       " ('bsd-3-clause-clear', 3),\n",
       " ('mit-0', 3),\n",
       " ('ncsa', 2),\n",
       " ('bsd-4-clause', 1),\n",
       " ('odbl-1.0', 1)]"
      ]
     },
     "execution_count": 53,
     "metadata": {},
     "output_type": "execute_result"
    }
   ],
   "source": [
    "sorted(counter.items(), key=lambda x: -x[1])"
   ]
  },
  {
   "cell_type": "code",
   "execution_count": 52,
   "metadata": {},
   "outputs": [
    {
     "data": {
      "text/plain": [
       "0.19068660628451461"
      ]
     },
     "execution_count": 52,
     "metadata": {},
     "output_type": "execute_result"
    }
   ],
   "source": [
    "# percentage with lincense\n",
    "sum([(counter[k] if (k is not None and k != 'None') else 0) for k in counter])/sum(counter.values())"
   ]
  },
  {
   "cell_type": "markdown",
   "metadata": {},
   "source": [
    "# Add License Information to Metadata"
   ]
  },
  {
   "cell_type": "code",
   "execution_count": 44,
   "metadata": {},
   "outputs": [],
   "source": [
    "# load license information\n",
    "licenses = pickle.load(open('../../data/license_checkpoint.pckg','rb'))\n",
    "\n",
    "licenses_dict = {}\n",
    "for license_info in licenses:\n",
    "    url = license_info[1]\n",
    "    license = license_info[2]\n",
    "    licenses_dict[url] = license"
   ]
  },
  {
   "cell_type": "code",
   "execution_count": 45,
   "metadata": {},
   "outputs": [],
   "source": [
    "# load metadata\n",
    "import json\n",
    "with open('../../data/metadata_postgres.json', 'r') as f:\n",
    "    metadata = json.load(f)"
   ]
  },
  {
   "cell_type": "code",
   "execution_count": 46,
   "metadata": {},
   "outputs": [],
   "source": [
    "# add license information   \n",
    "for key in metadata.keys():\n",
    "    url = metadata[key][\"INFO\"][\"url\"]\n",
    "    license = None\n",
    "    if url in licenses_dict: \n",
    "        license = licenses_dict[url]\n",
    "    metadata[key][\"INFO\"][\"license\"] = license if license is not None else \"None\""
   ]
  },
  {
   "cell_type": "code",
   "execution_count": 48,
   "metadata": {},
   "outputs": [],
   "source": [
    "# save metadata with license information\n",
    "with open('../../data/metadata_postgres_with_licenses.json', 'w') as f:\n",
    "    json.dump(metadata, f)"
   ]
  },
  {
   "cell_type": "code",
   "execution_count": null,
   "metadata": {},
   "outputs": [],
   "source": []
  }
 ],
 "metadata": {
  "kernelspec": {
   "display_name": "Python 3",
   "language": "python",
   "name": "python3"
  },
  "language_info": {
   "codemirror_mode": {
    "name": "ipython",
    "version": 3
   },
   "file_extension": ".py",
   "mimetype": "text/x-python",
   "name": "python",
   "nbconvert_exporter": "python",
   "pygments_lexer": "ipython3",
   "version": "3.7.9"
  }
 },
 "nbformat": 4,
 "nbformat_minor": 4
}
