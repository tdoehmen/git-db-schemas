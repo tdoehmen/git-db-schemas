{
 "cells": [
  {
   "cell_type": "markdown",
   "metadata": {},
   "source": [
    "# Filter Duplicates"
   ]
  },
  {
   "cell_type": "code",
   "execution_count": 78,
   "metadata": {},
   "outputs": [],
   "source": [
    "# read metadata\n",
    "import json\n",
    "with open('../../data/metadata_postgres_with_licenses.json', 'r') as f:\n",
    "    metadata = json.load(f)"
   ]
  },
  {
   "cell_type": "code",
   "execution_count": 79,
   "metadata": {},
   "outputs": [
    {
     "name": "stdout",
     "output_type": "stream",
     "text": [
      "duplicates removed: 11892/61038\n"
     ]
    }
   ],
   "source": [
    "# remove duplicates\n",
    "duplicates = 0\n",
    "seen_tables = set()\n",
    "datasets = list(metadata.keys())\n",
    "for dataset in datasets:\n",
    "    tables_str =  str(metadata[dataset][\"TABLES\"])\n",
    "    if tables_str in seen_tables:\n",
    "        duplicates += 1\n",
    "        del metadata[dataset]\n",
    "        continue\n",
    "    \n",
    "    seen_tables.add(tables_str)\n",
    "\n",
    "print(f\"duplicates removed: {duplicates}/{len(datasets)}\")"
   ]
  },
  {
   "cell_type": "code",
   "execution_count": 81,
   "metadata": {},
   "outputs": [],
   "source": [
    "# save deduplicated metadata\n",
    "with open('../../data/metadata_postgres_with_licenses_deduplicated.json', 'w') as f:\n",
    "    json.dump(metadata, f)"
   ]
  },
  {
   "cell_type": "markdown",
   "metadata": {},
   "source": [
    "# Create Statistics"
   ]
  },
  {
   "cell_type": "code",
   "execution_count": 109,
   "metadata": {},
   "outputs": [],
   "source": [
    "open_licenses = [\"mit\", \"apache-2.0\"]\n",
    "only_for_open_licenses = True"
   ]
  },
  {
   "cell_type": "code",
   "execution_count": 110,
   "metadata": {},
   "outputs": [
    {
     "name": "stdout",
     "output_type": "stream",
     "text": [
      "datasets: 6642, tables: 51594, columns: 363420, primary_keys: 36620, foreign_keys: 24380\r"
     ]
    }
   ],
   "source": [
    "datasets = 0\n",
    "tables = 0\n",
    "column_names = []\n",
    "pks = 0\n",
    "pk_composites = []\n",
    "pk_names = []\n",
    "pk_counts = []\n",
    "fks = 0\n",
    "fk_counts = []\n",
    "fk_names = []\n",
    "fk_ref_names = []\n",
    "fk_full_ref_names = []\n",
    "licenses = []\n",
    "for dataset in metadata.keys():\n",
    "    if only_for_open_licenses and metadata[dataset][\"INFO\"][\"license\"] not in open_licenses:\n",
    "        continue\n",
    "    datasets += 1\n",
    "    tables += len(metadata[dataset][\"TABLES\"])\n",
    "    licenses.append(metadata[dataset][\"INFO\"][\"license\"])\n",
    "    for table in metadata[dataset][\"TABLES\"].keys():\n",
    "        column_names.extend([col[0] for col in metadata[dataset][\"TABLES\"][table][\"COLUMNS\"]])          \n",
    "        pks += len(metadata[dataset][\"TABLES\"][table][\"PRIMARY_KEYS\"])\n",
    "        pk_names.extend(metadata[dataset][\"TABLES\"][table][\"PRIMARY_KEYS\"])\n",
    "        pk_counts.append(len(metadata[dataset][\"TABLES\"][table][\"PRIMARY_KEYS\"]))\n",
    "        pk_composites.append(', '.join(metadata[dataset][\"TABLES\"][table][\"PRIMARY_KEYS\"]))\n",
    "        fks += len(metadata[dataset][\"TABLES\"][table][\"FOREIGN_KEYS\"])\n",
    "        fk_counts.append(len([k['FOREIGN_KEY'] for k in metadata[dataset][\"TABLES\"][table][\"FOREIGN_KEYS\"]]))\n",
    "        fk_names.extend([k['FOREIGN_KEY'] for k in metadata[dataset][\"TABLES\"][table][\"FOREIGN_KEYS\"]])\n",
    "        for fk in metadata[dataset][\"TABLES\"][table][\"FOREIGN_KEYS\"]:\n",
    "            rt = fk['REFERENCE_TABLE']\n",
    "            rcs = fk['REFERENCE_COLUMN']\n",
    "            for rc in rcs:\n",
    "                fk_full_ref_names.append(f\"{rt}.{rc}\")\n",
    "        fk_ref_names.extend([k['REFERENCE_COLUMN'] for k in metadata[dataset][\"TABLES\"][table][\"FOREIGN_KEYS\"]])\n",
    "    if datasets % 10000 == 0 or datasets == len(metadata.keys()):\n",
    "        print(f\"datasets: {datasets}, tables: {tables}, columns: {len(column_names)}, primary_keys: {pks}, foreign_keys: {fks}\", end=\"\\r\")\n",
    "\n",
    "print(f\"datasets: {datasets}, tables: {tables}, columns: {len(column_names)}, primary_keys: {pks}, foreign_keys: {fks}\", end=\"\\r\")        \n",
    "\n",
    "# ALL:\n",
    "# datasets: 49146, tables: 323953, columns: 2054026, primary_keys: 248187, foreign_keys: 142421, duplicates: 11892\n",
    "#\n",
    "# WITH OPEN LICENSE:\n",
    "# datasets: 6642, tables: 51594, columns: 363420, primary_keys: 36620, foreign_keys: 24380"
   ]
  },
  {
   "cell_type": "code",
   "execution_count": 111,
   "metadata": {},
   "outputs": [],
   "source": [
    "fk_counts_per_table = []\n",
    "fk_names_flat = []\n",
    "for fks in fk_names:\n",
    "    fk_counts_per_table.append(len(fks))\n",
    "    for fk in fks:\n",
    "        fk_names_flat.append(fk)\n",
    "        \n",
    "fk_ref_names_flat = []\n",
    "for fks in fk_ref_names:\n",
    "    for fk in fks:\n",
    "        fk_ref_names_flat.append(fk)"
   ]
  },
  {
   "cell_type": "code",
   "execution_count": 112,
   "metadata": {},
   "outputs": [],
   "source": [
    "from matplotlib import pyplot as plt\n",
    "import collections"
   ]
  },
  {
   "cell_type": "code",
   "execution_count": 113,
   "metadata": {},
   "outputs": [
    {
     "data": {
      "image/png": "[encoded data removed]",
      "text/plain": [
       "<Figure size 432x288 with 1 Axes>"
      ]
     },
     "metadata": {
      "needs_background": "light"
     },
     "output_type": "display_data"
    }
   ],
   "source": [
    "# fk's per table\n",
    "counter = collections.Counter(fk_counts)\n",
    "most_common = counter.most_common()\n",
    "\n",
    "cutoff = 6\n",
    "most_common[cutoff] = (f\">{most_common[cutoff][0]}\", sum([kv[1] for kv in most_common[cutoff:]]))\n",
    "most_common = most_common[:cutoff+1]\n",
    "                          \n",
    "x = [str(kv[0]) for kv in most_common]\n",
    "y = [kv[1] for kv in most_common]\n",
    "\n",
    "plt.title(\"number of foreign keys per table\")\n",
    "plt.bar(x, y)\n",
    "plt.show()"
   ]
  },
  {
   "cell_type": "code",
   "execution_count": 114,
   "metadata": {},
   "outputs": [
    {
     "data": {
      "image/png": "[encoded data removed]",
      "text/plain": [
       "<Figure size 432x288 with 1 Axes>"
      ]
     },
     "metadata": {
      "needs_background": "light"
     },
     "output_type": "display_data"
    }
   ],
   "source": [
    "# composite pks per table\n",
    "counter = collections.Counter(pk_counts)\n",
    "most_common = counter.most_common()\n",
    "most_common = sorted(most_common, key=lambda x: x[0])\n",
    "\n",
    "cutoff = 6\n",
    "most_common[cutoff] = (f\">{most_common[cutoff][0]}\", sum([kv[1] for kv in most_common[cutoff:]]))\n",
    "most_common = most_common[1:cutoff+1]\n",
    "                          \n",
    "x = [str(kv[0]) for kv in most_common]\n",
    "y = [kv[1] for kv in most_common]\n",
    "\n",
    "plt.title(\"number of columns per primary key (n>=2 are composite keys)\")\n",
    "plt.bar(x, y)\n",
    "plt.show()"
   ]
  },
  {
   "cell_type": "code",
   "execution_count": 115,
   "metadata": {
    "pycharm": {
     "name": "#%%\n"
    }
   },
   "outputs": [
    {
     "data": {
      "image/png": "[encoded data removed]",
      "text/plain": [
       "<Figure size 432x288 with 1 Axes>"
      ]
     },
     "metadata": {
      "needs_background": "light"
     },
     "output_type": "display_data"
    }
   ],
   "source": [
    "# composite fks per table\n",
    "counter = collections.Counter(fk_counts_per_table)\n",
    "most_common = counter.most_common()\n",
    "\n",
    "most_common = sorted(most_common, key=lambda x: x[0])\n",
    "\n",
    "cutoff = 4\n",
    "most_common[cutoff] = (f\">{most_common[cutoff][0]}\", sum([kv[1] for kv in most_common[cutoff:]]))\n",
    "most_common = most_common[0:cutoff+1]\n",
    "                          \n",
    "x = [str(kv[0]) for kv in most_common]\n",
    "y = [kv[1] for kv in most_common]\n",
    "\n",
    "plt.title(\"number of columns per foreign key (n>=2 are composite keys)\")\n",
    "plt.bar(x, y)\n",
    "plt.show()"
   ]
  },
  {
   "cell_type": "code",
   "execution_count": 116,
   "metadata": {
    "pycharm": {
     "name": "#%%\n"
    }
   },
   "outputs": [
    {
     "data": {
      "image/png": "[encoded data removed]",
      "text/plain": [
       "<Figure size 432x288 with 1 Axes>"
      ]
     },
     "metadata": {
      "needs_background": "light"
     },
     "output_type": "display_data"
    }
   ],
   "source": [
    "# column nmaes\n",
    "counter = collections.Counter(column_names)\n",
    "most_common = counter.most_common()\n",
    "\n",
    "cutoff = 10\n",
    "most_common = most_common[0:cutoff]\n",
    "                          \n",
    "x = [str(kv[0]) for kv in most_common]\n",
    "y = [kv[1] for kv in most_common]\n",
    "\n",
    "plt.title(\"most common column names\")\n",
    "plt.barh(x[::-1], y[::-1])\n",
    "plt.show()"
   ]
  },
  {
   "cell_type": "code",
   "execution_count": 117,
   "metadata": {
    "pycharm": {
     "name": "#%%\n"
    }
   },
   "outputs": [
    {
     "data": {
      "image/png": "[encoded data removed]",
      "text/plain": [
       "<Figure size 432x288 with 1 Axes>"
      ]
     },
     "metadata": {
      "needs_background": "light"
     },
     "output_type": "display_data"
    }
   ],
   "source": [
    "# primary keys names\n",
    "counter = collections.Counter(pk_names)\n",
    "most_common = counter.most_common()\n",
    "\n",
    "cutoff = 10\n",
    "most_common = most_common[0:cutoff]\n",
    "                          \n",
    "x = [str(kv[0]) for kv in most_common]\n",
    "y = [kv[1] for kv in most_common]\n",
    "\n",
    "plt.title(\"most common primary key names\")\n",
    "plt.barh(x[::-1], y[::-1])\n",
    "plt.show()"
   ]
  },
  {
   "cell_type": "code",
   "execution_count": 118,
   "metadata": {
    "pycharm": {
     "name": "#%%\n"
    }
   },
   "outputs": [
    {
     "data": {
      "image/png": "[encoded data removed]",
      "text/plain": [
       "<Figure size 432x288 with 1 Axes>"
      ]
     },
     "metadata": {
      "needs_background": "light"
     },
     "output_type": "display_data"
    }
   ],
   "source": [
    "# foreign key names\n",
    "counter = collections.Counter(fk_names_flat)\n",
    "most_common = counter.most_common()\n",
    "\n",
    "cutoff = 10\n",
    "most_common = most_common[0:cutoff]\n",
    "                          \n",
    "x = [str(kv[0]) for kv in most_common]\n",
    "y = [kv[1] for kv in most_common]\n",
    "\n",
    "plt.title(\"most common foreign key names\")\n",
    "plt.barh(x[::-1], y[::-1])\n",
    "plt.show()"
   ]
  },
  {
   "cell_type": "code",
   "execution_count": 119,
   "metadata": {},
   "outputs": [
    {
     "data": {
      "image/png": "[encoded data removed]",
      "text/plain": [
       "<Figure size 432x288 with 1 Axes>"
      ]
     },
     "metadata": {
      "needs_background": "light"
     },
     "output_type": "display_data"
    }
   ],
   "source": [
    "# column nmaes\n",
    "counter = collections.Counter(column_names)\n",
    "most_common = counter.most_common()\n",
    "\n",
    "cutoff = 10\n",
    "most_common = most_common[0:cutoff]\n",
    "                          \n",
    "x = [str(kv[0]) for kv in most_common]\n",
    "y = [kv[1] for kv in most_common]\n",
    "\n",
    "plt.title(\"most common column names\")\n",
    "plt.barh(x[::-1], y[::-1])\n",
    "plt.show()"
   ]
  },
  {
   "cell_type": "code",
   "execution_count": 120,
   "metadata": {},
   "outputs": [
    {
     "data": {
      "image/png": "[encoded data removed]",
      "text/plain": [
       "<Figure size 432x288 with 1 Axes>"
      ]
     },
     "metadata": {
      "needs_background": "light"
     },
     "output_type": "display_data"
    }
   ],
   "source": [
    "# primary keys names\n",
    "counter = collections.Counter(pk_names)\n",
    "most_common = counter.most_common()\n",
    "\n",
    "cutoff = 10\n",
    "most_common = most_common[0:cutoff]\n",
    "                          \n",
    "x = [str(kv[0]) for kv in most_common]\n",
    "y = [kv[1] for kv in most_common]\n",
    "\n",
    "plt.title(\"most common primary key names\")\n",
    "plt.barh(x[::-1], y[::-1])\n",
    "plt.show()"
   ]
  },
  {
   "cell_type": "code",
   "execution_count": 139,
   "metadata": {},
   "outputs": [
    {
     "data": {
      "image/png": "[encoded data removed]",
      "text/plain": [
       "<Figure size 432x288 with 1 Axes>"
      ]
     },
     "metadata": {
      "needs_background": "light"
     },
     "output_type": "display_data"
    }
   ],
   "source": [
    "# foreign key names\n",
    "counter = collections.Counter(fk_names_flat)\n",
    "most_common = counter.most_common()\n",
    "\n",
    "cutoff = 10\n",
    "most_common = most_common[0:cutoff]\n",
    "                          \n",
    "x = [str(kv[0]) for kv in most_common]\n",
    "y = [kv[1] for kv in most_common]\n",
    "\n",
    "plt.title(\"most common foreign key names\")\n",
    "plt.barh(x[::-1], y[::-1])\n",
    "plt.show()"
   ]
  },
  {
   "cell_type": "code",
   "execution_count": 122,
   "metadata": {},
   "outputs": [
    {
     "name": "stdout",
     "output_type": "stream",
     "text": [
      "6528\n"
     ]
    },
    {
     "data": {
      "text/plain": [
       "[('sec_currency.id', 1547),\n",
       " ('sec_security.id', 1297),\n",
       " ('users.id', 547),\n",
       " ('sec_exchange.id', 492),\n",
       " ('sec_frequency.id', 455),\n",
       " ('comtnauthorgroupinfo.group_id', 369),\n",
       " ('comtnauthorinfo.author_code', 361),\n",
       " ('comtnfile.atch_file_id', 252),\n",
       " ('qrtz_triggers.trigger_name', 242),\n",
       " ('qrtz_triggers.trigger_group', 242)]"
      ]
     },
     "execution_count": 122,
     "metadata": {},
     "output_type": "execute_result"
    }
   ],
   "source": [
    "# foreign keys reference names with table name\n",
    "counter = collections.Counter(fk_full_ref_names)\n",
    "print(len(counter))\n",
    "counter.most_common()[:10]"
   ]
  },
  {
   "cell_type": "code",
   "execution_count": 123,
   "metadata": {},
   "outputs": [
    {
     "name": "stdout",
     "output_type": "stream",
     "text": [
      "2051\n"
     ]
    },
    {
     "data": {
      "text/plain": [
       "[('id', 13506),\n",
       " ('group_id', 512),\n",
       " ('author_code', 365),\n",
       " ('cluster_id', 334),\n",
       " ('sched_name', 323),\n",
       " ('trigger_name', 274),\n",
       " ('trigger_group', 274),\n",
       " ('user_id', 272),\n",
       " ('atch_file_id', 256),\n",
       " ('name', 217)]"
      ]
     },
     "execution_count": 123,
     "metadata": {},
     "output_type": "execute_result"
    }
   ],
   "source": [
    "# foreign keys reference names\n",
    "counter = collections.Counter(fk_ref_names_flat)\n",
    "print(len(counter))\n",
    "\n",
    "counter.most_common()[:10]"
   ]
  },
  {
   "cell_type": "code",
   "execution_count": 124,
   "metadata": {
    "scrolled": false
   },
   "outputs": [
    {
     "data": {
      "image/png": "[encoded data removed]",
      "text/plain": [
       "<Figure size 432x288 with 1 Axes>"
      ]
     },
     "metadata": {
      "needs_background": "light"
     },
     "output_type": "display_data"
    }
   ],
   "source": [
    "# most common licenses\n",
    "counter = collections.Counter(licenses)\n",
    "most_common = counter.most_common()\n",
    "\n",
    "cutoff = 10\n",
    "most_common = most_common[0:cutoff]\n",
    "                          \n",
    "x = [str(kv[0]) for kv in most_common]\n",
    "y = [kv[1] for kv in most_common]\n",
    "\n",
    "plt.title(\"most common licenses\")\n",
    "plt.barh(x[::-1], y[::-1])\n",
    "plt.show()"
   ]
  },
  {
   "cell_type": "code",
   "execution_count": 125,
   "metadata": {},
   "outputs": [
    {
     "name": "stdout",
     "output_type": "stream",
     "text": [
      "mit+apache2.0: 6642/0\n"
     ]
    }
   ],
   "source": [
    "open_licenses = [\"mit\", \"apache-2.0\"]\n",
    "open_license_count = sum([counter[license] for license in open_licenses])\n",
    "all_license_count = sum(counter.values())\n",
    "print(f\"mit+apache2.0: {open_license_count}/{all_license_count-open_license_count}\")"
   ]
  },
  {
   "cell_type": "markdown",
   "metadata": {},
   "source": [
    "# Overlap with Webtables"
   ]
  },
  {
   "cell_type": "code",
   "execution_count": 126,
   "metadata": {},
   "outputs": [],
   "source": [
    "# download headerDistri_list from http://data.dws.informatik.uni-mannheim.de/webtables/2015-07/statistics/relational/headerDistri_list.txt\n",
    "colnames_webtables = set()\n",
    "with open('../../data/headerDistri_list.txt', mode=\"r\", encoding=\"utf-8\") as f:\n",
    "    for line in f:\n",
    "        colname = line.split(\" Value : \")[0].replace(\"Key : \", \"\")\n",
    "        colnames_webtables.add(colname)"
   ]
  },
  {
   "cell_type": "code",
   "execution_count": 131,
   "metadata": {
    "scrolled": true
   },
   "outputs": [
    {
     "name": "stdout",
     "output_type": "stream",
     "text": [
      "matches per table: 133277/363420\n",
      "matches per unique column name: 4752/55157\n"
     ]
    }
   ],
   "source": [
    "matches = 0\n",
    "top_matches = []\n",
    "top_non_matches = []\n",
    "for col_name in column_names:\n",
    "    if col_name in colnames_webtables:\n",
    "        matches += 1\n",
    "        top_matches.append(col_name)\n",
    "    else:\n",
    "        top_non_matches.append(col_name)\n",
    "        \n",
    "print(f\"matches per table: {matches}/{len(column_names)}\")\n",
    "print(f\"matches per unique column name: {len(set(top_matches))}/{len(set(column_names))}\")"
   ]
  },
  {
   "cell_type": "code",
   "execution_count": 136,
   "metadata": {
    "scrolled": true
   },
   "outputs": [
    {
     "data": {
      "text/plain": [
       "[('id', 24740),\n",
       " ('name', 7447),\n",
       " ('description', 4865),\n",
       " ('created_at', 3475),\n",
       " ('updated_at', 2733),\n",
       " ('code', 2554),\n",
       " ('user_id', 2318),\n",
       " ('created', 1934),\n",
       " ('version', 1832),\n",
       " ('value', 1654),\n",
       " ('status', 1541),\n",
       " ('email', 1461),\n",
       " ('updated', 1337),\n",
       " ('title', 1189),\n",
       " ('password', 1084),\n",
       " ('type', 1084),\n",
       " ('group_id', 991),\n",
       " ('username', 912),\n",
       " ('label', 769),\n",
       " ('currency_id', 757),\n",
       " ('state', 663),\n",
       " ('deleted', 618),\n",
       " ('first_name', 608),\n",
       " ('last_name', 592),\n",
       " ('type_', 587),\n",
       " ('content', 508),\n",
       " ('url', 487),\n",
       " ('zip', 475),\n",
       " ('ordinal', 439),\n",
       " ('city', 438),\n",
       " ('strike', 430),\n",
       " ('start_date', 428),\n",
       " ('uuid', 419),\n",
       " ('active', 415),\n",
       " ('address', 404),\n",
       " ('key', 403),\n",
       " ('amount', 398),\n",
       " ('user_name', 367),\n",
       " ('role', 366),\n",
       " ('is_mandatory', 351),\n",
       " ('data', 349),\n",
       " ('is_public', 346),\n",
       " ('country', 345),\n",
       " ('date', 344),\n",
       " ('project_id', 338),\n",
       " ('price', 332),\n",
       " ('priority', 331),\n",
       " ('start_time', 327),\n",
       " ('created_on', 327),\n",
       " ('request_id', 326),\n",
       " ('others', 55839)]"
      ]
     },
     "execution_count": 136,
     "metadata": {},
     "output_type": "execute_result"
    }
   ],
   "source": [
    "counter = collections.Counter(top_matches)\n",
    "most_common = counter.most_common()\n",
    "cutoff = 50\n",
    "most_common[cutoff] = (f\"others\", sum([kv[1] for kv in most_common[cutoff:]]))\n",
    "most_common = most_common[:cutoff+1]\n",
    "most_common"
   ]
  },
  {
   "cell_type": "code",
   "execution_count": 138,
   "metadata": {
    "scrolled": true
   },
   "outputs": [
    {
     "data": {
      "text/plain": [
       "[('registration_timestamp', 2628),\n",
       " ('pers_id_registerer', 2318),\n",
       " ('id_', 1734),\n",
       " ('modification_timestamp', 1638),\n",
       " ('rev_', 1322),\n",
       " ('security_id', 1260),\n",
       " ('frst_regist_pnttm', 1181),\n",
       " ('last_updt_pnttm', 1177),\n",
       " ('last_updusr_id', 1177),\n",
       " ('frst_register_id', 1176),\n",
       " ('dbin_id', 1116),\n",
       " ('name_', 938),\n",
       " ('tenant_id_', 895),\n",
       " ('sched_name', 821),\n",
       " ('cluster_id', 803),\n",
       " ('createdAt', 731),\n",
       " ('use_at', 675),\n",
       " ('proc_def_id_', 665),\n",
       " ('created_by', 655),\n",
       " ('expiry_date', 638),\n",
       " ('pers_id_author', 626),\n",
       " ('expiry_zone', 606),\n",
       " ('expiry_accuracy', 606),\n",
       " ('execution_id_', 592),\n",
       " ('expe_id', 590),\n",
       " ('is_managed_internally', 581),\n",
       " ('updatedAt', 580),\n",
       " ('proc_inst_id_', 575),\n",
       " ('trigger_group', 551),\n",
       " ('underlying_scheme', 500),\n",
       " ('underlying_identifier', 500),\n",
       " ('samp_id', 500),\n",
       " ('trigger_name', 473),\n",
       " ('atch_file_id', 467),\n",
       " ('service_name', 449),\n",
       " ('create_time', 424),\n",
       " ('option_exercise_type', 416),\n",
       " ('area_no', 409),\n",
       " ('sbscrb_de', 390),\n",
       " ('detail_adres', 388),\n",
       " ('createdby', 381),\n",
       " ('role_id', 378),\n",
       " ('esntl_id', 376),\n",
       " ('valid_until_timestamp', 372),\n",
       " ('cvte_id', 367),\n",
       " ('host_id', 363),\n",
       " ('mate_prop_id', 359),\n",
       " ('valid_from_timestamp', 356),\n",
       " ('prty_id', 356),\n",
       " ('lock_cnt', 355),\n",
       " ('lock_at', 354),\n",
       " ('lock_last_pnttm', 354),\n",
       " ('settlement_date', 352),\n",
       " ('settlement_zone', 342),\n",
       " ('category_', 341),\n",
       " ('creat_dt', 337),\n",
       " ('create_time_', 337),\n",
       " ('role_code', 330),\n",
       " ('deployment_id_', 328),\n",
       " ('space_id', 327),\n",
       " ('createddate', 326),\n",
       " ('chg_pwd_last_pnttm', 321),\n",
       " ('task_id_', 318),\n",
       " ('deleted_at', 315),\n",
       " ('updated_by', 303),\n",
       " ('data_id', 302),\n",
       " ('user_id_', 298),\n",
       " ('option_type', 296),\n",
       " ('pointvalue', 296),\n",
       " ('orgnzt_id', 285),\n",
       " ('del_id', 283),\n",
       " ('create_timestamp', 280),\n",
       " ('tenantid', 277),\n",
       " ('maturity_date', 274),\n",
       " ('fxnum', 270),\n",
       " ('mbtlnum', 268),\n",
       " ('code_id', 266),\n",
       " ('sexdstn_code', 265),\n",
       " ('perm_id', 265),\n",
       " ('exchange_id', 263),\n",
       " ('suspension_state_', 262),\n",
       " ('lastmodifiedby', 261),\n",
       " ('key_', 258),\n",
       " ('author_code', 257),\n",
       " ('password_hint', 251),\n",
       " ('cl_code', 250),\n",
       " ('password_cnsr', 250),\n",
       " ('ihidnum', 250),\n",
       " ('job_group', 247),\n",
       " ('proj_id', 244),\n",
       " ('is_long', 240),\n",
       " ('scope_type_', 233),\n",
       " ('is_internal_namespace', 232),\n",
       " ('update_time', 229),\n",
       " ('tenant_id', 226),\n",
       " ('region_scheme', 223),\n",
       " ('resource_id', 218),\n",
       " ('exception_stack_id_', 217),\n",
       " ('exception_msg_', 217),\n",
       " ('handler_type_', 217),\n",
       " ('handler_cfg_', 217),\n",
       " ('ds_id', 217),\n",
       " ('scope_id_', 213),\n",
       " ('process_instance_id_', 208),\n",
       " ('is_shown_edit', 208),\n",
       " ('lastmodifieddate', 205),\n",
       " ('version_', 204),\n",
       " ('update_user', 201),\n",
       " ('put_amount', 200),\n",
       " ('call_amount', 200),\n",
       " ('put_currency_id', 200),\n",
       " ('call_currency_id', 200),\n",
       " ('notional', 200),\n",
       " ('maturity_zone', 200),\n",
       " ('retries_', 199),\n",
       " ('description_', 199),\n",
       " ('duedate_', 198),\n",
       " ('repeat_', 196),\n",
       " ('owner_id', 196),\n",
       " ('emplyr_id', 195),\n",
       " ('exclusive_', 194),\n",
       " ('sub_scope_id_', 192),\n",
       " ('case_inst_id_', 191),\n",
       " ('modified_by', 189),\n",
       " ('component_name', 189),\n",
       " ('creation_time', 188),\n",
       " ('saty_id', 184),\n",
       " ('region_identifier', 183),\n",
       " ('lock_owner_', 181),\n",
       " ('create_date', 180),\n",
       " ('vocabulary_term', 180),\n",
       " ('scope_definition_id_', 178),\n",
       " ('mate_id', 177),\n",
       " ('exty_id', 173),\n",
       " ('maty_id', 173),\n",
       " ('display_name', 172),\n",
       " ('covo_id', 172),\n",
       " ('act_id_', 169),\n",
       " ('CREATE_TIME', 169),\n",
       " ('dsty_id', 169),\n",
       " ('calendar_name', 163),\n",
       " ('blueprint_name', 162),\n",
       " ('pers_id_modifier', 162),\n",
       " ('instance_name', 161),\n",
       " ('relation_type', 161),\n",
       " ('organization_id', 161),\n",
       " ('email_adres', 160),\n",
       " ('job_data', 160),\n",
       " ('start_zone', 160),\n",
       " ('group_id_', 160),\n",
       " ('requests_recovery', 158),\n",
       " ('entity_perm_id', 158),\n",
       " ('value_', 156),\n",
       " ('lock_exp_time_', 156),\n",
       " ('file_size', 155),\n",
       " ('end_telno', 154),\n",
       " ('middle_telno', 154),\n",
       " ('grid_id', 154),\n",
       " ('stage_id', 152),\n",
       " ('is_nonconcurrent', 150),\n",
       " ('stpt_id', 149),\n",
       " ('observacao', 149),\n",
       " ('stack_id', 148),\n",
       " ('daycountconvention_id', 146),\n",
       " ('brthdy', 145),\n",
       " ('t_id', 144),\n",
       " ('case_def_id_', 143),\n",
       " ('host_name', 143),\n",
       " ('is_active', 140),\n",
       " ('validation_script_id', 140),\n",
       " ('resource_name_', 139),\n",
       " ('updated_on', 139),\n",
       " ('permission_id', 138),\n",
       " ('etpt_id', 138),\n",
       " ('start_time_', 137),\n",
       " ('update_timestamp', 137),\n",
       " ('target_id', 137),\n",
       " ('mtpt_id', 137),\n",
       " ('last_updated', 137),\n",
       " ('mber_sttus', 136),\n",
       " ('offm_telno', 135),\n",
       " ('next_id', 134),\n",
       " ('dstpt_id', 134),\n",
       " ('orgnzt_nm', 133),\n",
       " ('ofcps_nm', 132),\n",
       " ('cmpny_nm', 132),\n",
       " ('statusid', 131),\n",
       " ('file_sn', 130),\n",
       " ('user_nm', 130),\n",
       " ('empl_no', 130),\n",
       " ('house_adres', 130),\n",
       " ('house_end_telno', 130),\n",
       " ('house_middle_telno', 130),\n",
       " ('pstinst_code', 130),\n",
       " ('emplyr_sttus_code', 130),\n",
       " ('principal_name', 130),\n",
       " ('business_key_', 130),\n",
       " ('principal_id', 130),\n",
       " ('mber_id', 127),\n",
       " ('parent_id_', 127),\n",
       " ('code_nm', 126),\n",
       " ('hasname', 126),\n",
       " ('cl_code_nm', 125),\n",
       " ('cl_code_dc', 125),\n",
       " ('code_id_nm', 125),\n",
       " ('code_id_dc', 125),\n",
       " ('code_dc', 125),\n",
       " ('group_nm', 125),\n",
       " ('group_creat_de', 125),\n",
       " ('group_dc', 125),\n",
       " ('orgnzt_dc', 125),\n",
       " ('file_stre_cours', 125),\n",
       " ('stre_file_nm', 125),\n",
       " ('orignl_file_nm', 125),\n",
       " ('file_extsn', 125),\n",
       " ('file_cn', 125),\n",
       " ('mber_nm', 125),\n",
       " ('mber_fxnum', 125),\n",
       " ('mber_email_adres', 125),\n",
       " ('crtfc_dn_value', 125),\n",
       " ('entrprs_mber_id', 125),\n",
       " ('entrprs_se_code', 125),\n",
       " ('bizrno', 125),\n",
       " ('jurirno', 125),\n",
       " ('cxfc', 125),\n",
       " ('entrprs_middle_telno', 125),\n",
       " ('induty_code', 125),\n",
       " ('applcnt_nm', 125),\n",
       " ('applcnt_ihidnum', 125),\n",
       " ('entrprs_mber_sttus', 125),\n",
       " ('entrprs_mber_password', 125),\n",
       " ('entrprs_mber_password_hint', 125),\n",
       " ('entrprs_mber_password_cnsr', 125),\n",
       " ('entrprs_end_telno', 125),\n",
       " ('applcnt_email_adres', 125),\n",
       " ('mssage_id', 124),\n",
       " ('email_cn', 124),\n",
       " ('sndr', 124),\n",
       " ('rcver', 124),\n",
       " ('sndng_result_code', 124),\n",
       " ('dsptch_dt', 124),\n",
       " ('custom_values_id_', 122),\n",
       " ('author_nm', 121),\n",
       " ('author_dc', 121),\n",
       " ('author_creat_de', 121),\n",
       " ('parnts_role', 121),\n",
       " ('chldrn_role', 121),\n",
       " ('role_nm', 121),\n",
       " ('role_sort', 121),\n",
       " ('priority_', 121),\n",
       " ('role_pttrn', 120),\n",
       " ('role_dc', 120),\n",
       " ('role_ty', 120),\n",
       " ('role_creat_de', 120),\n",
       " ('is_payer', 120),\n",
       " ('show_raw_value', 120),\n",
       " ('idgen_table_nm', 118),\n",
       " ('idgen_next_id', 118),\n",
       " ('bytearray_id_', 117),\n",
       " ('double_', 117),\n",
       " ('long_', 117),\n",
       " ('text_', 117),\n",
       " ('text2_', 117),\n",
       " ('entity_type', 116),\n",
       " ('revtype', 116),\n",
       " ('frequency_id', 115),\n",
       " ('version_tag', 115),\n",
       " ('record_id', 115),\n",
       " ('maintenance_state', 114),\n",
       " ('t_basket', 114),\n",
       " ('t_type', 114),\n",
       " ('INTEGER_IDX', 113),\n",
       " ('assignee_', 113),\n",
       " ('expires_at', 112),\n",
       " ('creator_id', 112),\n",
       " ('lang_id', 112),\n",
       " ('SD_ID', 111),\n",
       " ('resource_type_id', 108),\n",
       " ('effective_date', 107),\n",
       " ('configuration_', 107),\n",
       " ('deploy_time_', 105),\n",
       " ('dept_no', 104),\n",
       " ('exac_id', 104),\n",
       " ('grou_id', 104),\n",
       " ('end_time_', 103),\n",
       " ('owner_', 102),\n",
       " ('root_proc_inst_id_', 101),\n",
       " ('margined', 100),\n",
       " ('activity_id_', 100),\n",
       " ('GRANT_OPTION', 100),\n",
       " ('GRANTOR_TYPE', 100),\n",
       " ('proc_def_key_', 100),\n",
       " ('action_timestamp', 100),\n",
       " ('relationship_id', 97),\n",
       " ('entity_key', 97),\n",
       " ('session_token', 96),\n",
       " ('service_id', 95),\n",
       " ('dast_id', 95),\n",
       " ('dgrm_resource_name_', 94),\n",
       " ('repo_version_id', 94),\n",
       " ('pers_id_leader', 94),\n",
       " ('code_name', 93),\n",
       " ('desired_state', 93),\n",
       " ('definition_id', 93),\n",
       " ('is_complete', 93),\n",
       " ('cron_expression', 90),\n",
       " ('time_zone_id', 89),\n",
       " ('party_id', 89),\n",
       " ('last_modified', 89),\n",
       " ('modified_date', 89),\n",
       " ('deployment_id', 88),\n",
       " ('upgrade_id', 88),\n",
       " ('config_data', 88),\n",
       " ('createdtime', 88),\n",
       " ('bytes_', 87),\n",
       " ('TBL_ID', 87),\n",
       " ('daty_id', 87),\n",
       " ('integer_idx', 86),\n",
       " ('view_instance_name', 86),\n",
       " ('data_producer_code', 86),\n",
       " ('production_timestamp', 86),\n",
       " ('data_id_parent', 86),\n",
       " ('data_id_child', 86),\n",
       " ('ffty_id', 86),\n",
       " ('loty_id', 86),\n",
       " ('cvte_id_stor_fmt', 86),\n",
       " ('cvte_id_store', 86),\n",
       " ('pers_id_grantee', 86),\n",
       " ('samp_id_part_of', 86),\n",
       " ('is_displayed', 86),\n",
       " ('t_ili_tid', 86),\n",
       " ('data_modificacao', 86),\n",
       " ('controle_uuid', 86),\n",
       " ('usuario_criacao', 86),\n",
       " ('usuario_atualizacao', 86),\n",
       " ('insumo', 86),\n",
       " ('data_insumo', 86),\n",
       " ('trigger_type', 85),\n",
       " ('lastmodifiedtime', 85),\n",
       " ('is_derived', 85),\n",
       " ('is_listable', 85),\n",
       " ('generated_from_depth', 85),\n",
       " ('part_of_depth', 85),\n",
       " ('lock_name', 84),\n",
       " ('element_id_', 84),\n",
       " ('maty_prop_id', 84),\n",
       " ('state_id', 84),\n",
       " ('sequence_counter_', 84),\n",
       " ('modifiedby', 84),\n",
       " ('super_exec_', 83),\n",
       " ('desired_stack_id', 83),\n",
       " ('remote_url', 83),\n",
       " ('next_fire_time', 82),\n",
       " ('sd_id', 82),\n",
       " ('parent_task_id_', 82),\n",
       " ('task_def_key_', 82),\n",
       " ('due_date_', 82),\n",
       " ('duration_', 82),\n",
       " ('act_inst_id_', 82),\n",
       " ('is_chosen_from_list', 82),\n",
       " ('source_uri', 82),\n",
       " ('display_settings', 82),\n",
       " ('name_norm', 82),\n",
       " ('name_orig', 82),\n",
       " ('prev_fire_time', 81),\n",
       " ('trigger_state', 81),\n",
       " ('misfire_instr', 81),\n",
       " ('pay_amount', 81),\n",
       " ('entity_id', 81),\n",
       " ('config_attributes', 81),\n",
       " ('service_config_id', 81),\n",
       " ('orig_del', 81),\n",
       " ('is_durable', 80),\n",
       " ('barrier_type', 80),\n",
       " ('barrier_direction', 80),\n",
       " ('barrier_level', 80),\n",
       " ('monitoring_type', 80),\n",
       " ('sampling_frequency', 80),\n",
       " ('is_delivery_in_call_currency', 80),\n",
       " ('pay_currency_id', 80),\n",
       " ('receive_currency_id', 80),\n",
       " ('receive_amount', 80),\n",
       " ('forward_date', 80),\n",
       " ('forward_zone', 80),\n",
       " ('is_cap', 80),\n",
       " ('start_user_id_', 80),\n",
       " ('last_modified_by', 80),\n",
       " ('log_info', 80),\n",
       " ('data_store_id', 80),\n",
       " ('data_store_service_id', 80),\n",
       " ('data_set_type_id', 80),\n",
       " ('repeat_count', 79),\n",
       " ('times_triggered', 79),\n",
       " ('ag_id', 79),\n",
       " ('pers_id', 79),\n",
       " ('fired_time', 78),\n",
       " ('last_checkin_time', 78),\n",
       " ('checkin_interval', 78),\n",
       " ('key_value', 78),\n",
       " ('add_date', 78),\n",
       " ('ag_id_grantee', 78),\n",
       " ('blob_data', 77),\n",
       " ('trading_exchange_id', 76),\n",
       " ('settlement_exchange_id', 76),\n",
       " ('is_update_data', 76),\n",
       " ('realm_id', 76),\n",
       " ('str_prop_1', 75),\n",
       " ('str_prop_2', 75),\n",
       " ('str_prop_3', 75),\n",
       " ('int_prop_1', 75),\n",
       " ('int_prop_2', 75),\n",
       " ('dec_prop_1', 75),\n",
       " ('dec_prop_2', 75),\n",
       " ('bool_prop_1', 75),\n",
       " ('bool_prop_2', 75),\n",
       " ('PARAM_KEY', 75),\n",
       " ('payment_id', 75),\n",
       " ('time_stamp', 75),\n",
       " ('payment_currency_id', 74),\n",
       " ('long_prop_1', 74),\n",
       " ('long_prop_2', 74),\n",
       " ('is_auto_generated_code', 74),\n",
       " ('generated_code_prefix', 74),\n",
       " ('main_ds_pattern', 73),\n",
       " ('main_ds_path', 73),\n",
       " ('maturity_date_zone', 73),\n",
       " ('start_date_zone', 73),\n",
       " ('policed', 73),\n",
       " ('backend_status', 73),\n",
       " ('write_protect', 73),\n",
       " ('unit_amount', 72),\n",
       " ('image_url', 72),\n",
       " ('image_id', 72),\n",
       " ('mngr_email_adres', 72),\n",
       " ('security_state', 72),\n",
       " ('instance_id', 72),\n",
       " ('modifier_id', 72),\n",
       " ('backend_register', 72),\n",
       " ('lazy_blocked', 72),\n",
       " ('no_sync', 72),\n",
       " ('tech_insert_function', 72),\n",
       " ('tech_data_load_utc_timestamp', 72),\n",
       " ('tech_data_load_uuid', 72),\n",
       " ('obsolete_flag', 72),\n",
       " ('obsolete_datetime', 72),\n",
       " ('created_', 71),\n",
       " ('PART_ID', 71),\n",
       " ('revision_count', 71),\n",
       " ('unitname_id', 70),\n",
       " ('unitnumber', 70),\n",
       " ('time_stamp_', 70),\n",
       " ('member_id', 70),\n",
       " ('query_type', 70),\n",
       " ('original_creator', 70),\n",
       " ('original_creator_id', 70),\n",
       " ('original_modifier', 70),\n",
       " ('original_modifier_id', 70),\n",
       " ('param_value', 69),\n",
       " ('identity_id', 69),\n",
       " ('is_archiver_configured', 69),\n",
       " ('create_at', 69),\n",
       " ('role_name', 68),\n",
       " ('sched_time', 68),\n",
       " ('db_key', 68),\n",
       " ('removal_time_', 68),\n",
       " ('case_execution_id_', 68),\n",
       " ('last_update', 68),\n",
       " ('tbl_id', 67),\n",
       " ('lock_time_', 67),\n",
       " ('config_id', 67),\n",
       " ('is_subcode_unique', 67),\n",
       " ('tech_row_hash', 67),\n",
       " ('registeredapp', 67),\n",
       " ('businessdayconvention_id', 66),\n",
       " ('is_active_', 66),\n",
       " ('is_concurrent_', 66),\n",
       " ('is_scope_', 66),\n",
       " ('is_event_scope_', 66),\n",
       " ('has_start_form_key_', 66),\n",
       " ('mngr_nm', 66),\n",
       " ('current_state', 66),\n",
       " ('parent_label', 66),\n",
       " ('child_label', 66),\n",
       " ('sample_id_parent', 66),\n",
       " ('sample_id_child', 66),\n",
       " ('plan_id', 66),\n",
       " ('is_placeholder', 66),\n",
       " ('primaryKey', 66),\n",
       " ('mod_date', 66),\n",
       " ('createduser', 66),\n",
       " ('param_key', 65),\n",
       " ('cached_ent_state_', 65),\n",
       " ('cluster_name', 65),\n",
       " ('submission_id', 65),\n",
       " ('tech_insert_utc_timestamp', 65),\n",
       " ('grantor', 64),\n",
       " ('authorId', 64),\n",
       " ('from_date', 64),\n",
       " ('bbs_id', 64),\n",
       " ('last_modified_date', 64),\n",
       " ('others', 135462)]"
      ]
     },
     "execution_count": 138,
     "metadata": {},
     "output_type": "execute_result"
    }
   ],
   "source": [
    "counter = collections.Counter(top_non_matches)\n",
    "most_common = counter.most_common()\n",
    "cutoff = 500\n",
    "most_common[cutoff] = (f\"others\", sum([kv[1] for kv in most_common[cutoff:]]))\n",
    "most_common = most_common[:cutoff+1]\n",
    "most_common"
   ]
  },
  {
   "cell_type": "code",
   "execution_count": 154,
   "metadata": {},
   "outputs": [
    {
     "data": {
      "text/plain": [
       "['OrderID',\n",
       " 'OrderId',\n",
       " 'audit_record_id',\n",
       " 'buy_order_id',\n",
       " 'buyrecordid',\n",
       " 'cktraitwordid',\n",
       " 'cod_orgao_subordinado',\n",
       " 'cord_ref',\n",
       " 'customer_order_id',\n",
       " 'discord_user_id',\n",
       " 'drug_record_id',\n",
       " 'electronic_order_id',\n",
       " 'forgotpassword_questions_id',\n",
       " 'from_word_id',\n",
       " 'id_ord',\n",
       " 'id_order',\n",
       " 'indicatordescriptorid',\n",
       " 'keywordid',\n",
       " 'l_orderkey',\n",
       " 'liga_uebergeordnet',\n",
       " 'line_order_number',\n",
       " 'marc_type_of_record_id',\n",
       " 'metabolite_record_id',\n",
       " 'negative_words_id',\n",
       " 'order_code_id',\n",
       " 'order_customer_number',\n",
       " 'order_delivery_method_id',\n",
       " 'order_detail_id',\n",
       " 'order_id',\n",
       " 'order_info_id',\n",
       " 'order_ref',\n",
       " 'order_shipping_method_id',\n",
       " 'orderdatekey',\n",
       " 'orderid',\n",
       " 'ordernumber',\n",
       " 'orders_customer_cno',\n",
       " 'orders_product_pno',\n",
       " 'ordr_id',\n",
       " 'password_id',\n",
       " 'positive_words_id',\n",
       " 'record_hash',\n",
       " 'record_id',\n",
       " 'region_uebergeordnet',\n",
       " 'salerecordid',\n",
       " 'sales_order_change_log_id',\n",
       " 'sales_order_confirmation_status_id',\n",
       " 'sales_order_delivery_group_id',\n",
       " 'sales_order_delivery_group_id_left',\n",
       " 'sales_order_delivery_group_id_right',\n",
       " 'sales_order_delivery_status_id',\n",
       " 'sales_order_id',\n",
       " 'sales_order_id_left',\n",
       " 'sales_order_id_right',\n",
       " 'sales_order_payment_summary_id',\n",
       " 'sales_order_price_adjustment_id',\n",
       " 'sales_order_product_group_id',\n",
       " 'sales_order_product_group_type_id',\n",
       " 'sales_order_product_id',\n",
       " 'sales_order_product_id_left',\n",
       " 'sales_order_product_id_right',\n",
       " 'sales_order_product_reason_category_id',\n",
       " 'sales_order_product_reason_id',\n",
       " 'sales_order_product_status_id',\n",
       " 'sales_order_product_tax_id',\n",
       " 'sales_order_product_tax_id_left',\n",
       " 'sales_order_product_tax_id_right',\n",
       " 'sales_order_status_id',\n",
       " 'sales_order_type_id',\n",
       " 'sell_order_id',\n",
       " 'substrate_record_id',\n",
       " 'system_discord_id',\n",
       " 'to_word_id',\n",
       " 'vuln_record_id',\n",
       " 'word_from_id',\n",
       " 'word_id',\n",
       " 'work_order_id',\n",
       " 'work_order_type']"
      ]
     },
     "execution_count": 154,
     "metadata": {},
     "output_type": "execute_result"
    }
   ],
   "source": [
    "# foreign keys, related to orders\n",
    "order_fks = [x for x in sorted(list(counter.keys())) if \"ord\" in x.lower()]\n",
    "order_fks"
   ]
  },
  {
   "cell_type": "code",
   "execution_count": 163,
   "metadata": {},
   "outputs": [
    {
     "data": {
      "text/plain": [
       "['OrderID', 'OrderId', 'order_id', 'orderid']"
      ]
     },
     "execution_count": 163,
     "metadata": {},
     "output_type": "execute_result"
    }
   ],
   "source": [
    "# number of those fk's present in webtables\n",
    "[fk for fk in order_fks if fk in colnames_webtables]"
   ]
  },
  {
   "cell_type": "code",
   "execution_count": null,
   "metadata": {},
   "outputs": [],
   "source": []
  }
 ],
 "metadata": {
  "kernelspec": {
   "display_name": "Python 3",
   "language": "python",
   "name": "python3"
  },
  "language_info": {
   "codemirror_mode": {
    "name": "ipython",
    "version": 3
   },
   "file_extension": ".py",
   "mimetype": "text/x-python",
   "name": "python",
   "nbconvert_exporter": "python",
   "pygments_lexer": "ipython3",
   "version": "3.7.9"
  }
 },
 "nbformat": 4,
 "nbformat_minor": 4
}
